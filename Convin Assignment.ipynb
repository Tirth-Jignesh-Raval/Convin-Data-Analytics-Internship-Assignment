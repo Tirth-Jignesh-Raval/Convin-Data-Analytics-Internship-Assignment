{
 "cells": [
  {
   "cell_type": "markdown",
   "metadata": {},
   "source": [
    "# Simple File Handling Assignment By Convin Data Analytics Internship "
   ]
  },
  {
   "cell_type": "markdown",
   "metadata": {},
   "source": [
    "### 5W and 1H  - what, who, why,how,when,which "
   ]
  },
  {
   "cell_type": "code",
   "execution_count": 1,
   "metadata": {},
   "outputs": [],
   "source": [
    "# r --> Read and t--> Text Mode\n",
    "f = open(\"data.txt\",'rt')\n",
    "l = ['what', 'who', 'why','how','when','which']\n",
    "lines = f.readlines()\n",
    "for line in lines:\n",
    "    if (set(l) & set(line.strip().split())):\n",
    "        x = open(\"output.txt\", \"a\")\n",
    "        x.write(line.strip()+\" Yes\\n\")\n",
    "        x.close()        \n",
    "    else:\n",
    "        x = open(\"output.txt\", \"a\")\n",
    "        x.write(line.strip()+\" No\\n\")\n",
    "        x.close()    "
   ]
  }
 ],
 "metadata": {
  "kernelspec": {
   "display_name": "Python 3",
   "language": "python",
   "name": "python3"
  },
  "language_info": {
   "codemirror_mode": {
    "name": "ipython",
    "version": 3
   },
   "file_extension": ".py",
   "mimetype": "text/x-python",
   "name": "python",
   "nbconvert_exporter": "python",
   "pygments_lexer": "ipython3",
   "version": "3.8.5"
  }
 },
 "nbformat": 4,
 "nbformat_minor": 4
}
